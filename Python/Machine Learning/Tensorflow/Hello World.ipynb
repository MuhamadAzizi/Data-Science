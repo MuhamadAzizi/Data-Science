{
 "metadata": {
  "orig_nbformat": 2,
  "kernelspec": {
   "name": "python3",
   "display_name": "Python 3",
   "language": "python"
  }
 },
 "nbformat": 4,
 "nbformat_minor": 2,
 "cells": [
  {
   "source": [
    "# Import Packages"
   ],
   "cell_type": "markdown",
   "metadata": {}
  },
  {
   "cell_type": "code",
   "execution_count": 1,
   "metadata": {},
   "outputs": [],
   "source": [
    "import tensorflow as tf\n",
    "import numpy as np"
   ]
  },
  {
   "source": [
    "Disini kita mencoba untuk membuat sebuah data dummy dimana data tersebut ialah\n",
    "\n",
    "- xs = `[-1.0, 0.0, 1.0, 2.0, 3.0, 4.0]`\n",
    "- ys = `[-2.0, 1.0, 4.0, 7.0, 10.0, 13.0]`\n",
    "\n",
    "dimana `ys` diambial dari `y = 3x + 1`"
   ],
   "cell_type": "markdown",
   "metadata": {}
  },
  {
   "cell_type": "code",
   "execution_count": 2,
   "metadata": {},
   "outputs": [],
   "source": [
    "xs = np.array([-1.0, 0.0, 1.0, 2.0, 3.0, 4.0], dtype=float)\n",
    "ys = np.array([-2.0, 1.0, 4.0, 7.0, 10.0, 13.0], dtype=float)"
   ]
  },
  {
   "source": [
    "# Modelling Process\n",
    "\n",
    "Selanjutnya yaitu membuat model Deep Learning dengan 1 input layer saja"
   ],
   "cell_type": "markdown",
   "metadata": {}
  },
  {
   "cell_type": "code",
   "execution_count": 3,
   "metadata": {},
   "outputs": [],
   "source": [
    "model = tf.keras.models.Sequential()\n",
    "model.add(tf.keras.layers.Dense(units=1, input_shape=[1]))"
   ]
  },
  {
   "source": [
    "Setelah membuat sebuah model, maka dilakukan kompilasi terhadap model tersebut dengan menggunakan optimizer `sgd` dan loss `mean_squared_error` serta melatih model dengan data yang sudah kita buat diatas"
   ],
   "cell_type": "markdown",
   "metadata": {}
  },
  {
   "cell_type": "code",
   "execution_count": 8,
   "metadata": {},
   "outputs": [
    {
     "output_type": "stream",
     "name": "stdout",
     "text": [
      "Train on 6 samples\n",
      "Epoch 1/50\n",
      "6/6 [==============================] - 0s 71ms/sample - loss: 0.0012\n",
      "Epoch 2/50\n",
      "6/6 [==============================] - 0s 1ms/sample - loss: 0.0011\n",
      "Epoch 3/50\n",
      "6/6 [==============================] - 0s 667us/sample - loss: 9.9988e-04\n",
      "Epoch 4/50\n",
      "6/6 [==============================] - 0s 1ms/sample - loss: 9.4056e-04\n",
      "Epoch 5/50\n",
      "6/6 [==============================] - 0s 667us/sample - loss: 8.9072e-04\n",
      "Epoch 6/50\n",
      "6/6 [==============================] - 0s 1ms/sample - loss: 8.4841e-04\n",
      "Epoch 7/50\n",
      "6/6 [==============================] - 0s 667us/sample - loss: 8.1210e-04\n",
      "Epoch 8/50\n",
      "6/6 [==============================] - 0s 2ms/sample - loss: 7.8056e-04\n",
      "Epoch 9/50\n",
      "6/6 [==============================] - 0s 2ms/sample - loss: 7.5283e-04\n",
      "Epoch 10/50\n",
      "6/6 [==============================] - 0s 1ms/sample - loss: 7.2817e-04\n",
      "Epoch 11/50\n",
      "6/6 [==============================] - 0s 2ms/sample - loss: 7.0597e-04\n",
      "Epoch 12/50\n",
      "6/6 [==============================] - 0s 1000us/sample - loss: 6.8578e-04\n",
      "Epoch 13/50\n",
      "6/6 [==============================] - 0s 500us/sample - loss: 6.6722e-04\n",
      "Epoch 14/50\n",
      "6/6 [==============================] - 0s 666us/sample - loss: 6.4998e-04\n",
      "Epoch 15/50\n",
      "6/6 [==============================] - 0s 1000us/sample - loss: 6.3386e-04\n",
      "Epoch 16/50\n",
      "6/6 [==============================] - 0s 3ms/sample - loss: 6.1865e-04\n",
      "Epoch 17/50\n",
      "6/6 [==============================] - 0s 667us/sample - loss: 6.0423e-04\n",
      "Epoch 18/50\n",
      "6/6 [==============================] - 0s 1ms/sample - loss: 5.9047e-04\n",
      "Epoch 19/50\n",
      "6/6 [==============================] - 0s 500us/sample - loss: 5.7728e-04\n",
      "Epoch 20/50\n",
      "6/6 [==============================] - 0s 1ms/sample - loss: 5.6459e-04\n",
      "Epoch 21/50\n",
      "6/6 [==============================] - 0s 821us/sample - loss: 5.5233e-04\n",
      "Epoch 22/50\n",
      "6/6 [==============================] - 0s 834us/sample - loss: 5.4047e-04\n",
      "Epoch 23/50\n",
      "6/6 [==============================] - 0s 500us/sample - loss: 5.2896e-04\n",
      "Epoch 24/50\n",
      "6/6 [==============================] - 0s 666us/sample - loss: 5.1777e-04\n",
      "Epoch 25/50\n",
      "6/6 [==============================] - 0s 833us/sample - loss: 5.0689e-04\n",
      "Epoch 26/50\n",
      "6/6 [==============================] - 0s 667us/sample - loss: 4.9627e-04\n",
      "Epoch 27/50\n",
      "6/6 [==============================] - 0s 833us/sample - loss: 4.8592e-04\n",
      "Epoch 28/50\n",
      "6/6 [==============================] - 0s 1000us/sample - loss: 4.7582e-04\n",
      "Epoch 29/50\n",
      "6/6 [==============================] - 0s 834us/sample - loss: 4.6595e-04\n",
      "Epoch 30/50\n",
      "6/6 [==============================] - 0s 1ms/sample - loss: 4.5630e-04\n",
      "Epoch 31/50\n",
      "6/6 [==============================] - 0s 833us/sample - loss: 4.4687e-04\n",
      "Epoch 32/50\n",
      "6/6 [==============================] - 0s 1000us/sample - loss: 4.3765e-04\n",
      "Epoch 33/50\n",
      "6/6 [==============================] - 0s 666us/sample - loss: 4.2862e-04\n",
      "Epoch 34/50\n",
      "6/6 [==============================] - 0s 1ms/sample - loss: 4.1979e-04\n",
      "Epoch 35/50\n",
      "6/6 [==============================] - 0s 666us/sample - loss: 4.1114e-04\n",
      "Epoch 36/50\n",
      "6/6 [==============================] - 0s 1ms/sample - loss: 4.0268e-04\n",
      "Epoch 37/50\n",
      "6/6 [==============================] - 0s 1000us/sample - loss: 3.9439e-04\n",
      "Epoch 38/50\n",
      "6/6 [==============================] - 0s 1ms/sample - loss: 3.8628e-04\n",
      "Epoch 39/50\n",
      "6/6 [==============================] - 0s 2ms/sample - loss: 3.7834e-04\n",
      "Epoch 40/50\n",
      "6/6 [==============================] - 0s 2ms/sample - loss: 3.7055e-04\n",
      "Epoch 41/50\n",
      "6/6 [==============================] - 0s 500us/sample - loss: 3.6294e-04\n",
      "Epoch 42/50\n",
      "6/6 [==============================] - 0s 833us/sample - loss: 3.5548e-04\n",
      "Epoch 43/50\n",
      "6/6 [==============================] - 0s 667us/sample - loss: 3.4818e-04\n",
      "Epoch 44/50\n",
      "6/6 [==============================] - 0s 667us/sample - loss: 3.4102e-04\n",
      "Epoch 45/50\n",
      "6/6 [==============================] - 0s 667us/sample - loss: 3.3402e-04\n",
      "Epoch 46/50\n",
      "6/6 [==============================] - 0s 833us/sample - loss: 3.2715e-04\n",
      "Epoch 47/50\n",
      "6/6 [==============================] - 0s 833us/sample - loss: 3.2043e-04\n",
      "Epoch 48/50\n",
      "6/6 [==============================] - 0s 667us/sample - loss: 3.1385e-04\n",
      "Epoch 49/50\n",
      "6/6 [==============================] - 0s 667us/sample - loss: 3.0740e-04\n",
      "Epoch 50/50\n",
      "6/6 [==============================] - 0s 666us/sample - loss: 3.0108e-04\n"
     ]
    },
    {
     "output_type": "execute_result",
     "data": {
      "text/plain": [
       "<tensorflow.python.keras.callbacks.History at 0x1d96c361c08>"
      ]
     },
     "metadata": {},
     "execution_count": 8
    }
   ],
   "source": [
    "model.compile(optimizer='sgd', loss='mean_squared_error')\n",
    "model.fit(xs, ys, epochs=50)"
   ]
  },
  {
   "source": [
    "Pada tahap ini, kita sudah mendapatkan sebuah rule/pattern atau pola atas model yang sudah kita latih. Oleh karena itu, kita sudah bisa melakukan perdiksi terhadap data baru"
   ],
   "cell_type": "markdown",
   "metadata": {}
  },
  {
   "cell_type": "code",
   "execution_count": 6,
   "metadata": {},
   "outputs": [
    {
     "output_type": "execute_result",
     "data": {
      "text/plain": [
       "array([[15.98499]], dtype=float32)"
      ]
     },
     "metadata": {},
     "execution_count": 6
    }
   ],
   "source": [
    "model.predict([5])"
   ]
  }
 ]
}