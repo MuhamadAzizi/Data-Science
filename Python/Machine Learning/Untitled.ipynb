{
 "cells": [
  {
   "cell_type": "code",
   "execution_count": 52,
   "metadata": {},
   "outputs": [],
   "source": [
    "from sklearn import datasets\n",
    "from sklearn.model_selection import train_test_split\n",
    "from sklearn.tree import DecisionTreeRegressor\n",
    "from sklearn.ensemble import RandomForestRegressor\n",
    "from sklearn.metrics import mean_absolute_error"
   ]
  },
  {
   "cell_type": "code",
   "execution_count": 30,
   "metadata": {},
   "outputs": [
    {
     "data": {
      "text/plain": [
       "(506, 13)"
      ]
     },
     "execution_count": 30,
     "metadata": {},
     "output_type": "execute_result"
    }
   ],
   "source": [
    "X, y = datasets.load_boston(return_X_y=True)\n",
    "X.shape"
   ]
  },
  {
   "cell_type": "code",
   "execution_count": 31,
   "metadata": {},
   "outputs": [],
   "source": [
    "X_train, X_valid, y_train, y_valid = train_test_split(X, y, test_size=0.2)"
   ]
  },
  {
   "cell_type": "code",
   "execution_count": 51,
   "metadata": {},
   "outputs": [
    {
     "data": {
      "text/plain": [
       "3.6710721149654377"
      ]
     },
     "execution_count": 51,
     "metadata": {},
     "output_type": "execute_result"
    }
   ],
   "source": [
    "model = DecisionTreeRegressor(max_leaf_nodes=15, random_state=1)\n",
    "model.fit(X_train, y_train)\n",
    "preds = model.predict(X_valid)\n",
    "mean_absolute_error(preds, y_valid)"
   ]
  },
  {
   "cell_type": "code",
   "execution_count": 45,
   "metadata": {},
   "outputs": [
    {
     "data": {
      "text/plain": [
       "array([24.8       , 20.69699248, 27.03076923, 11.97121212, 27.03076923,\n",
       "       20.69699248, 11.97121212, 20.69699248, 20.69699248, 24.8       ,\n",
       "       24.8       , 24.8       , 24.8       , 11.97121212, 17.1       ,\n",
       "       20.69699248, 20.69699248, 20.69699248, 20.69699248, 24.8       ,\n",
       "       31.79148936, 46.77727273, 17.1       , 11.97121212, 20.69699248,\n",
       "       17.1       , 17.1       , 11.97121212, 31.79148936, 20.69699248,\n",
       "       17.1       , 20.69699248, 11.97121212, 46.77727273, 45.65      ,\n",
       "       20.69699248, 46.77727273, 31.79148936, 20.69699248, 20.69699248,\n",
       "       11.97121212, 27.03076923, 11.97121212, 17.1       , 24.8       ,\n",
       "       20.69699248, 11.97121212, 24.8       , 17.1       , 24.8       ,\n",
       "       20.69699248, 20.69699248, 20.69699248, 20.69699248, 27.03076923,\n",
       "       31.79148936, 24.8       , 24.8       , 11.97121212, 17.1       ,\n",
       "       27.03076923, 20.69699248, 20.69699248, 31.79148936, 20.69699248,\n",
       "       17.1       , 17.1       , 31.79148936, 20.69699248, 20.69699248,\n",
       "       31.79148936, 24.8       , 31.79148936, 17.1       , 11.97121212,\n",
       "       46.77727273, 20.69699248, 17.1       , 20.69699248, 17.1       ,\n",
       "       17.1       , 31.79148936, 46.77727273, 20.69699248, 20.69699248,\n",
       "       17.1       , 11.97121212, 46.77727273, 17.1       , 17.1       ,\n",
       "       17.1       , 11.97121212, 17.1       , 20.69699248, 46.77727273,\n",
       "       20.69699248, 24.8       , 20.69699248, 20.69699248, 17.1       ,\n",
       "       24.8       , 20.69699248])"
      ]
     },
     "execution_count": 45,
     "metadata": {},
     "output_type": "execute_result"
    }
   ],
   "source": [
    "preds"
   ]
  },
  {
   "cell_type": "code",
   "execution_count": 46,
   "metadata": {},
   "outputs": [
    {
     "data": {
      "text/plain": [
       "array([27.9, 21.4, 25. ,  7.4, 30.7, 22.6,  7.2, 17.4, 10.9, 30.1, 22.3,\n",
       "       23. , 22.6, 10.2, 17.8, 23.1, 20.5, 50. , 22.2, 24.5, 35.4, 35.2,\n",
       "       17.3, 19.1, 20.4, 18.8, 19.8, 10.8, 23.9, 19.4, 22.5, 23.1, 10.2,\n",
       "       46.7, 50. , 24.8, 37.6, 33.4, 23.8, 19.5, 14.1, 26.7,  8.5, 21.4,\n",
       "       23.9, 18.9, 12.8, 24.2, 15.6, 23.4, 21.2, 28.4, 21.8, 18.7, 36.5,\n",
       "       23.7, 24.4, 23.7, 14.6, 23.1, 25.1, 17.5, 23.9, 25. , 22.2, 15.2,\n",
       "        7. , 33.1, 21.6, 21. , 28.2, 30.8, 29.6,  8.1, 13.9, 43.8, 19.6,\n",
       "       14. , 26.4, 19.4, 15.7, 28.5, 50. , 19.3, 23. , 16.2, 16.7, 48.8,\n",
       "       19.4, 21.5, 14.8, 17.2, 20. , 20.2, 39.8, 50. , 19.4, 21.5, 36.2,\n",
       "       16.6, 20.6, 23. ])"
      ]
     },
     "execution_count": 46,
     "metadata": {},
     "output_type": "execute_result"
    }
   ],
   "source": [
    "y_valid"
   ]
  },
  {
   "cell_type": "code",
   "execution_count": null,
   "metadata": {},
   "outputs": [],
   "source": []
  }
 ],
 "metadata": {
  "kernelspec": {
   "display_name": "Python 3",
   "language": "python",
   "name": "python3"
  },
  "language_info": {
   "codemirror_mode": {
    "name": "ipython",
    "version": 3
   },
   "file_extension": ".py",
   "mimetype": "text/x-python",
   "name": "python",
   "nbconvert_exporter": "python",
   "pygments_lexer": "ipython3",
   "version": "3.7.4"
  }
 },
 "nbformat": 4,
 "nbformat_minor": 2
}
